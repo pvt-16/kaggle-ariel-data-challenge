{
  "metadata": {
    "kernelspec": {
      "language": "python",
      "display_name": "Python 3",
      "name": "python3"
    },
    "language_info": {
      "name": "python",
      "version": "3.10.14",
      "mimetype": "text/x-python",
      "codemirror_mode": {
        "name": "ipython",
        "version": 3
      },
      "pygments_lexer": "ipython3",
      "nbconvert_exporter": "python",
      "file_extension": ".py"
    },
    "kaggle": {
      "accelerator": "none",
      "dataSources": [
        {
          "sourceId": 70367,
          "databundleVersionId": 9188054,
          "sourceType": "competition"
        }
      ],
      "dockerImageVersionId": 30761,
      "isInternetEnabled": true,
      "language": "python",
      "sourceType": "notebook",
      "isGpuEnabled": false
    },
    "colab": {
      "name": "ariel data",
      "provenance": [],
      "include_colab_link": true
    }
  },
  "nbformat_minor": 0,
  "nbformat": 4,
  "cells": [
    {
      "cell_type": "markdown",
      "metadata": {
        "id": "view-in-github",
        "colab_type": "text"
      },
      "source": [
        "<a href=\"https://colab.research.google.com/github/pvt-16/kaggle-ariel-data-challenge/blob/master/ariel_data.ipynb\" target=\"_parent\"><img src=\"https://colab.research.google.com/assets/colab-badge.svg\" alt=\"Open In Colab\"/></a>"
      ]
    },
    {
      "source": [
        "\n",
        "# IMPORTANT: RUN THIS CELL IN ORDER TO IMPORT YOUR KAGGLE DATA SOURCES\n",
        "# TO THE CORRECT LOCATION (/kaggle/input) IN YOUR NOTEBOOK,\n",
        "# THEN FEEL FREE TO DELETE THIS CELL.\n",
        "# NOTE: THIS NOTEBOOK ENVIRONMENT DIFFERS FROM KAGGLE'S PYTHON\n",
        "# ENVIRONMENT SO THERE MAY BE MISSING LIBRARIES USED BY YOUR\n",
        "# NOTEBOOK.\n",
        "\n",
        "import os\n",
        "import sys\n",
        "from tempfile import NamedTemporaryFile\n",
        "from urllib.request import urlopen\n",
        "from urllib.parse import unquote, urlparse\n",
        "from urllib.error import HTTPError\n",
        "from zipfile import ZipFile\n",
        "import tarfile\n",
        "import shutil\n",
        "\n",
        "CHUNK_SIZE = 40960\n",
        "DATA_SOURCE_MAPPING = 'ariel-data-challenge-2024:https%3A%2F%2Fstorage.googleapis.com%2Fkaggle-competitions-data%2Fkaggle-v2%2F70367%2F9188054%2Fbundle%2Farchive.zip%3FX-Goog-Algorithm%3DGOOG4-RSA-SHA256%26X-Goog-Credential%3Dgcp-kaggle-com%2540kaggle-161607.iam.gserviceaccount.com%252F20240908%252Fauto%252Fstorage%252Fgoog4_request%26X-Goog-Date%3D20240908T183502Z%26X-Goog-Expires%3D259200%26X-Goog-SignedHeaders%3Dhost%26X-Goog-Signature%3Dc6f49456c76029dd52cb428803a9d665a4d85070c39915cc16e0381d7abbbcdaffc5112ccfe340ba7af87cd806f50303879b34b98ce8e5cfa8bd3cb9d8f54e8410ac65bce76c1757ac14fd37111e4d06984b3de63b735771ca035d0ef6b4526d7ae210576e0da003858a6ca288be9713e2798ea7a4c93996bce4638181f96faa8cde13bb6d90b8ec7c9f4903f7e039db5abf088934a17fb0909444cf58b16eb481ebbfb85a74fc4a8689c2a7c000f8dfe67173f9ebe44a82050b38a6614844e23e58325a35273a58b0ca367b87c26e256ba237467d5a197155b48e6b4434390ec9abbab220f4c22c6af9c996b444c9a9b3e3bfb00d10ebbae82c2d686867097d'\n",
        "\n",
        "KAGGLE_INPUT_PATH='/kaggle/input'\n",
        "KAGGLE_WORKING_PATH='/kaggle/working'\n",
        "KAGGLE_SYMLINK='kaggle'\n",
        "\n",
        "!umount /kaggle/input/ 2> /dev/null\n",
        "shutil.rmtree('/kaggle/input', ignore_errors=True)\n",
        "os.makedirs(KAGGLE_INPUT_PATH, 0o777, exist_ok=True)\n",
        "os.makedirs(KAGGLE_WORKING_PATH, 0o777, exist_ok=True)\n",
        "\n",
        "try:\n",
        "  os.symlink(KAGGLE_INPUT_PATH, os.path.join(\"..\", 'input'), target_is_directory=True)\n",
        "except FileExistsError:\n",
        "  pass\n",
        "try:\n",
        "  os.symlink(KAGGLE_WORKING_PATH, os.path.join(\"..\", 'working'), target_is_directory=True)\n",
        "except FileExistsError:\n",
        "  pass\n",
        "\n",
        "for data_source_mapping in DATA_SOURCE_MAPPING.split(','):\n",
        "    directory, download_url_encoded = data_source_mapping.split(':')\n",
        "    download_url = unquote(download_url_encoded)\n",
        "    filename = urlparse(download_url).path\n",
        "    destination_path = os.path.join(KAGGLE_INPUT_PATH, directory)\n",
        "    try:\n",
        "        with urlopen(download_url) as fileres, NamedTemporaryFile() as tfile:\n",
        "            total_length = fileres.headers['content-length']\n",
        "            print(f'Downloading {directory}, {total_length} bytes compressed')\n",
        "            dl = 0\n",
        "            data = fileres.read(CHUNK_SIZE)\n",
        "            while len(data) > 0:\n",
        "                dl += len(data)\n",
        "                tfile.write(data)\n",
        "                done = int(50 * dl / int(total_length))\n",
        "                sys.stdout.write(f\"\\r[{'=' * done}{' ' * (50-done)}] {dl} bytes downloaded\")\n",
        "                sys.stdout.flush()\n",
        "                data = fileres.read(CHUNK_SIZE)\n",
        "            if filename.endswith('.zip'):\n",
        "              with ZipFile(tfile) as zfile:\n",
        "                zfile.extractall(destination_path)\n",
        "            else:\n",
        "              with tarfile.open(tfile.name) as tarfile:\n",
        "                tarfile.extractall(destination_path)\n",
        "            print(f'\\nDownloaded and uncompressed: {directory}')\n",
        "    except HTTPError as e:\n",
        "        print(f'Failed to load (likely expired) {download_url} to path {destination_path}')\n",
        "        continue\n",
        "    except OSError as e:\n",
        "        print(f'Failed to load {download_url} to path {destination_path}')\n",
        "        continue\n",
        "\n",
        "print('Data source import complete.')\n"
      ],
      "metadata": {
        "id": "X68G47X96w0u"
      },
      "cell_type": "code",
      "outputs": [],
      "execution_count": null
    },
    {
      "cell_type": "code",
      "source": [
        "import numpy as np # linear algebra\n",
        "import pandas as pd # data processing, CSV file I/O (e.g. pd.read_csv)\n",
        "import dask.dataframe as dd\n",
        "\n",
        "\n",
        "# Input data files are available in the read-only \"../input/\" directory\n",
        "# For example, running this (by clicking run or pressing Shift+Enter) will list all files under the input directory"
      ],
      "metadata": {
        "_uuid": "8f2839f25d086af736a60e9eeb907d3b93b6e0e5",
        "_cell_guid": "b1076dfc-b9ad-4769-8c92-a6c4dae69d19",
        "execution": {
          "iopub.status.busy": "2024-09-08T18:08:35.164426Z",
          "iopub.execute_input": "2024-09-08T18:08:35.164849Z",
          "iopub.status.idle": "2024-09-08T18:08:35.170378Z",
          "shell.execute_reply.started": "2024-09-08T18:08:35.16481Z",
          "shell.execute_reply": "2024-09-08T18:08:35.168918Z"
        },
        "trusted": true,
        "id": "PpSMMwLX6w0w"
      },
      "execution_count": null,
      "outputs": []
    },
    {
      "cell_type": "code",
      "source": [
        "input_path = '/kaggle/input/ariel-data-challenge-2024'"
      ],
      "metadata": {
        "execution": {
          "iopub.status.busy": "2024-09-08T18:08:36.703428Z",
          "iopub.execute_input": "2024-09-08T18:08:36.70434Z",
          "iopub.status.idle": "2024-09-08T18:08:36.709269Z",
          "shell.execute_reply.started": "2024-09-08T18:08:36.704277Z",
          "shell.execute_reply": "2024-09-08T18:08:36.70798Z"
        },
        "trusted": true,
        "id": "3FKn_u206w0w"
      },
      "execution_count": null,
      "outputs": []
    },
    {
      "cell_type": "code",
      "source": [
        "labels_df = pd.read_csv(f'{input_path}/train_labels.csv')"
      ],
      "metadata": {
        "execution": {
          "iopub.status.busy": "2024-09-08T18:08:37.966714Z",
          "iopub.execute_input": "2024-09-08T18:08:37.967148Z",
          "iopub.status.idle": "2024-09-08T18:08:38.07688Z",
          "shell.execute_reply.started": "2024-09-08T18:08:37.967104Z",
          "shell.execute_reply": "2024-09-08T18:08:38.075431Z"
        },
        "trusted": true,
        "id": "ZwTQD4gJ6w0x"
      },
      "execution_count": null,
      "outputs": []
    },
    {
      "cell_type": "code",
      "source": [
        "labels_df.describe()"
      ],
      "metadata": {
        "execution": {
          "iopub.status.busy": "2024-09-08T18:08:39.045862Z",
          "iopub.execute_input": "2024-09-08T18:08:39.046301Z",
          "iopub.status.idle": "2024-09-08T18:08:39.53089Z",
          "shell.execute_reply.started": "2024-09-08T18:08:39.046258Z",
          "shell.execute_reply": "2024-09-08T18:08:39.529591Z"
        },
        "trusted": true,
        "id": "7p8Phq0C6w0x",
        "outputId": "a5aa5068-721e-4061-db01-bc9567911a7b"
      },
      "execution_count": null,
      "outputs": [
        {
          "execution_count": 10,
          "output_type": "execute_result",
          "data": {
            "text/plain": "          planet_id        wl_1        wl_2        wl_3        wl_4  \\\ncount  6.730000e+02  673.000000  673.000000  673.000000  673.000000   \nmean   2.131767e+09    0.002486    0.002516    0.002510    0.002505   \nstd    1.200253e+09    0.001720    0.001720    0.001717    0.001717   \nmin    7.858340e+05    0.000396    0.000396    0.000396    0.000396   \n25%    1.121250e+09    0.001183    0.001206    0.001206    0.001206   \n50%    2.042817e+09    0.001866    0.001905    0.001896    0.001894   \n75%    3.101987e+09    0.003527    0.003533    0.003530    0.003529   \nmax    4.286134e+09    0.007097    0.007080    0.007077    0.007072   \n\n             wl_5        wl_6        wl_7        wl_8        wl_9  ...  \\\ncount  673.000000  673.000000  673.000000  673.000000  673.000000  ...   \nmean     0.002507    0.002499    0.002499    0.002508    0.002505  ...   \nstd      0.001715    0.001713    0.001714    0.001716    0.001716  ...   \nmin      0.000396    0.000396    0.000396    0.000396    0.000396  ...   \n25%      0.001206    0.001206    0.001206    0.001206    0.001206  ...   \n50%      0.001896    0.001894    0.001886    0.001896    0.001895  ...   \n75%      0.003528    0.003527    0.003529    0.003532    0.003532  ...   \nmax      0.007071    0.007069    0.007070    0.007072    0.007071  ...   \n\n           wl_274      wl_275      wl_276      wl_277      wl_278      wl_279  \\\ncount  673.000000  673.000000  673.000000  673.000000  673.000000  673.000000   \nmean     0.002513    0.002513    0.002512    0.002512    0.002512    0.002513   \nstd      0.001721    0.001721    0.001721    0.001721    0.001721    0.001722   \nmin      0.000397    0.000397    0.000397    0.000397    0.000397    0.000397   \n25%      0.001207    0.001207    0.001206    0.001206    0.001206    0.001206   \n50%      0.001897    0.001897    0.001896    0.001896    0.001896    0.001897   \n75%      0.003529    0.003529    0.003529    0.003529    0.003529    0.003529   \nmax      0.007233    0.007227    0.007222    0.007223    0.007231    0.007238   \n\n           wl_280      wl_281      wl_282      wl_283  \ncount  673.000000  673.000000  673.000000  673.000000  \nmean     0.002513    0.002512    0.002511    0.002510  \nstd      0.001722    0.001722    0.001722    0.001721  \nmin      0.000397    0.000397    0.000397    0.000397  \n25%      0.001206    0.001206    0.001206    0.001206  \n50%      0.001897    0.001897    0.001897    0.001896  \n75%      0.003529    0.003529    0.003529    0.003528  \nmax      0.007239    0.007233    0.007224    0.007217  \n\n[8 rows x 284 columns]",
            "text/html": "<div>\n<style scoped>\n    .dataframe tbody tr th:only-of-type {\n        vertical-align: middle;\n    }\n\n    .dataframe tbody tr th {\n        vertical-align: top;\n    }\n\n    .dataframe thead th {\n        text-align: right;\n    }\n</style>\n<table border=\"1\" class=\"dataframe\">\n  <thead>\n    <tr style=\"text-align: right;\">\n      <th></th>\n      <th>planet_id</th>\n      <th>wl_1</th>\n      <th>wl_2</th>\n      <th>wl_3</th>\n      <th>wl_4</th>\n      <th>wl_5</th>\n      <th>wl_6</th>\n      <th>wl_7</th>\n      <th>wl_8</th>\n      <th>wl_9</th>\n      <th>...</th>\n      <th>wl_274</th>\n      <th>wl_275</th>\n      <th>wl_276</th>\n      <th>wl_277</th>\n      <th>wl_278</th>\n      <th>wl_279</th>\n      <th>wl_280</th>\n      <th>wl_281</th>\n      <th>wl_282</th>\n      <th>wl_283</th>\n    </tr>\n  </thead>\n  <tbody>\n    <tr>\n      <th>count</th>\n      <td>6.730000e+02</td>\n      <td>673.000000</td>\n      <td>673.000000</td>\n      <td>673.000000</td>\n      <td>673.000000</td>\n      <td>673.000000</td>\n      <td>673.000000</td>\n      <td>673.000000</td>\n      <td>673.000000</td>\n      <td>673.000000</td>\n      <td>...</td>\n      <td>673.000000</td>\n      <td>673.000000</td>\n      <td>673.000000</td>\n      <td>673.000000</td>\n      <td>673.000000</td>\n      <td>673.000000</td>\n      <td>673.000000</td>\n      <td>673.000000</td>\n      <td>673.000000</td>\n      <td>673.000000</td>\n    </tr>\n    <tr>\n      <th>mean</th>\n      <td>2.131767e+09</td>\n      <td>0.002486</td>\n      <td>0.002516</td>\n      <td>0.002510</td>\n      <td>0.002505</td>\n      <td>0.002507</td>\n      <td>0.002499</td>\n      <td>0.002499</td>\n      <td>0.002508</td>\n      <td>0.002505</td>\n      <td>...</td>\n      <td>0.002513</td>\n      <td>0.002513</td>\n      <td>0.002512</td>\n      <td>0.002512</td>\n      <td>0.002512</td>\n      <td>0.002513</td>\n      <td>0.002513</td>\n      <td>0.002512</td>\n      <td>0.002511</td>\n      <td>0.002510</td>\n    </tr>\n    <tr>\n      <th>std</th>\n      <td>1.200253e+09</td>\n      <td>0.001720</td>\n      <td>0.001720</td>\n      <td>0.001717</td>\n      <td>0.001717</td>\n      <td>0.001715</td>\n      <td>0.001713</td>\n      <td>0.001714</td>\n      <td>0.001716</td>\n      <td>0.001716</td>\n      <td>...</td>\n      <td>0.001721</td>\n      <td>0.001721</td>\n      <td>0.001721</td>\n      <td>0.001721</td>\n      <td>0.001721</td>\n      <td>0.001722</td>\n      <td>0.001722</td>\n      <td>0.001722</td>\n      <td>0.001722</td>\n      <td>0.001721</td>\n    </tr>\n    <tr>\n      <th>min</th>\n      <td>7.858340e+05</td>\n      <td>0.000396</td>\n      <td>0.000396</td>\n      <td>0.000396</td>\n      <td>0.000396</td>\n      <td>0.000396</td>\n      <td>0.000396</td>\n      <td>0.000396</td>\n      <td>0.000396</td>\n      <td>0.000396</td>\n      <td>...</td>\n      <td>0.000397</td>\n      <td>0.000397</td>\n      <td>0.000397</td>\n      <td>0.000397</td>\n      <td>0.000397</td>\n      <td>0.000397</td>\n      <td>0.000397</td>\n      <td>0.000397</td>\n      <td>0.000397</td>\n      <td>0.000397</td>\n    </tr>\n    <tr>\n      <th>25%</th>\n      <td>1.121250e+09</td>\n      <td>0.001183</td>\n      <td>0.001206</td>\n      <td>0.001206</td>\n      <td>0.001206</td>\n      <td>0.001206</td>\n      <td>0.001206</td>\n      <td>0.001206</td>\n      <td>0.001206</td>\n      <td>0.001206</td>\n      <td>...</td>\n      <td>0.001207</td>\n      <td>0.001207</td>\n      <td>0.001206</td>\n      <td>0.001206</td>\n      <td>0.001206</td>\n      <td>0.001206</td>\n      <td>0.001206</td>\n      <td>0.001206</td>\n      <td>0.001206</td>\n      <td>0.001206</td>\n    </tr>\n    <tr>\n      <th>50%</th>\n      <td>2.042817e+09</td>\n      <td>0.001866</td>\n      <td>0.001905</td>\n      <td>0.001896</td>\n      <td>0.001894</td>\n      <td>0.001896</td>\n      <td>0.001894</td>\n      <td>0.001886</td>\n      <td>0.001896</td>\n      <td>0.001895</td>\n      <td>...</td>\n      <td>0.001897</td>\n      <td>0.001897</td>\n      <td>0.001896</td>\n      <td>0.001896</td>\n      <td>0.001896</td>\n      <td>0.001897</td>\n      <td>0.001897</td>\n      <td>0.001897</td>\n      <td>0.001897</td>\n      <td>0.001896</td>\n    </tr>\n    <tr>\n      <th>75%</th>\n      <td>3.101987e+09</td>\n      <td>0.003527</td>\n      <td>0.003533</td>\n      <td>0.003530</td>\n      <td>0.003529</td>\n      <td>0.003528</td>\n      <td>0.003527</td>\n      <td>0.003529</td>\n      <td>0.003532</td>\n      <td>0.003532</td>\n      <td>...</td>\n      <td>0.003529</td>\n      <td>0.003529</td>\n      <td>0.003529</td>\n      <td>0.003529</td>\n      <td>0.003529</td>\n      <td>0.003529</td>\n      <td>0.003529</td>\n      <td>0.003529</td>\n      <td>0.003529</td>\n      <td>0.003528</td>\n    </tr>\n    <tr>\n      <th>max</th>\n      <td>4.286134e+09</td>\n      <td>0.007097</td>\n      <td>0.007080</td>\n      <td>0.007077</td>\n      <td>0.007072</td>\n      <td>0.007071</td>\n      <td>0.007069</td>\n      <td>0.007070</td>\n      <td>0.007072</td>\n      <td>0.007071</td>\n      <td>...</td>\n      <td>0.007233</td>\n      <td>0.007227</td>\n      <td>0.007222</td>\n      <td>0.007223</td>\n      <td>0.007231</td>\n      <td>0.007238</td>\n      <td>0.007239</td>\n      <td>0.007233</td>\n      <td>0.007224</td>\n      <td>0.007217</td>\n    </tr>\n  </tbody>\n</table>\n<p>8 rows × 284 columns</p>\n</div>"
          },
          "metadata": {}
        }
      ]
    },
    {
      "cell_type": "code",
      "source": [
        "PLANET_ID = 'planet_id'"
      ],
      "metadata": {
        "execution": {
          "iopub.status.busy": "2024-09-08T18:30:01.899196Z",
          "iopub.execute_input": "2024-09-08T18:30:01.900355Z",
          "iopub.status.idle": "2024-09-08T18:30:01.905102Z",
          "shell.execute_reply.started": "2024-09-08T18:30:01.90029Z",
          "shell.execute_reply": "2024-09-08T18:30:01.903906Z"
        },
        "trusted": true,
        "id": "QmjgwCOf6w0y"
      },
      "execution_count": null,
      "outputs": []
    },
    {
      "cell_type": "code",
      "source": [
        "labels_df.sort_values(PLANET_ID)"
      ],
      "metadata": {
        "execution": {
          "iopub.status.busy": "2024-09-08T18:30:03.986123Z",
          "iopub.execute_input": "2024-09-08T18:30:03.987524Z",
          "iopub.status.idle": "2024-09-08T18:30:04.018136Z",
          "shell.execute_reply.started": "2024-09-08T18:30:03.987469Z",
          "shell.execute_reply": "2024-09-08T18:30:04.016992Z"
        },
        "trusted": true,
        "id": "7W9r5NNU6w0y",
        "outputId": "d21ead51-247d-4cac-9a08-1dd8ac0b89ff"
      },
      "execution_count": null,
      "outputs": [
        {
          "execution_count": 20,
          "output_type": "execute_result",
          "data": {
            "text/plain": "      planet_id      wl_1      wl_2      wl_3      wl_4      wl_5      wl_6  \\\n0        785834  0.001086  0.001137  0.001131  0.001124  0.001138  0.001131   \n1      14485303  0.001835  0.001835  0.001834  0.001833  0.001833  0.001833   \n2      17002355  0.002792  0.002814  0.002808  0.002804  0.002809  0.002805   \n3      24135240  0.001294  0.001308  0.001308  0.001306  0.001306  0.001303   \n4      25070640  0.001987  0.001987  0.001987  0.001987  0.001987  0.001987   \n..          ...       ...       ...       ...       ...       ...       ...   \n668  4249337798  0.000790  0.000828  0.000825  0.000822  0.000830  0.000826   \n669  4257395405  0.004063  0.004094  0.004090  0.004094  0.004083  0.004069   \n670  4266129805  0.006566  0.006569  0.006568  0.006568  0.006567  0.006567   \n671  4273166473  0.005647  0.005700  0.005687  0.005676  0.005687  0.005676   \n672  4286133832  0.001506  0.001543  0.001541  0.001539  0.001544  0.001539   \n\n         wl_7      wl_8      wl_9  ...    wl_274    wl_275    wl_276  \\\n0    0.001123  0.001127  0.001120  ...  0.001075  0.001076  0.001076   \n1    0.001833  0.001834  0.001834  ...  0.001893  0.001892  0.001892   \n2    0.002802  0.002805  0.002801  ...  0.002784  0.002783  0.002783   \n3    0.001306  0.001314  0.001314  ...  0.001405  0.001404  0.001403   \n4    0.001987  0.001987  0.001987  ...  0.001988  0.001988  0.001988   \n..        ...       ...       ...  ...       ...       ...       ...   \n668  0.000822  0.000823  0.000820  ...  0.000798  0.000799  0.000799   \n669  0.004076  0.004097  0.004100  ...  0.004042  0.004042  0.004041   \n670  0.006568  0.006570  0.006569  ...  0.006566  0.006566  0.006566   \n671  0.005667  0.005673  0.005663  ...  0.005603  0.005603  0.005603   \n672  0.001537  0.001543  0.001540  ...  0.001505  0.001505  0.001505   \n\n       wl_277    wl_278    wl_279    wl_280    wl_281    wl_282    wl_283  \n0    0.001076  0.001074  0.001073  0.001072  0.001073  0.001073  0.001072  \n1    0.001891  0.001891  0.001891  0.001890  0.001890  0.001889  0.001888  \n2    0.002783  0.002783  0.002784  0.002784  0.002785  0.002785  0.002784  \n3    0.001402  0.001401  0.001400  0.001399  0.001397  0.001395  0.001393  \n4    0.001988  0.001988  0.001988  0.001988  0.001988  0.001988  0.001988  \n..        ...       ...       ...       ...       ...       ...       ...  \n668  0.000799  0.000798  0.000796  0.000796  0.000796  0.000796  0.000796  \n669  0.004041  0.004041  0.004041  0.004041  0.004040  0.004040  0.004039  \n670  0.006566  0.006566  0.006566  0.006566  0.006566  0.006566  0.006566  \n671  0.005602  0.005602  0.005604  0.005606  0.005607  0.005607  0.005605  \n672  0.001505  0.001504  0.001503  0.001503  0.001503  0.001503  0.001502  \n\n[673 rows x 284 columns]",
            "text/html": "<div>\n<style scoped>\n    .dataframe tbody tr th:only-of-type {\n        vertical-align: middle;\n    }\n\n    .dataframe tbody tr th {\n        vertical-align: top;\n    }\n\n    .dataframe thead th {\n        text-align: right;\n    }\n</style>\n<table border=\"1\" class=\"dataframe\">\n  <thead>\n    <tr style=\"text-align: right;\">\n      <th></th>\n      <th>planet_id</th>\n      <th>wl_1</th>\n      <th>wl_2</th>\n      <th>wl_3</th>\n      <th>wl_4</th>\n      <th>wl_5</th>\n      <th>wl_6</th>\n      <th>wl_7</th>\n      <th>wl_8</th>\n      <th>wl_9</th>\n      <th>...</th>\n      <th>wl_274</th>\n      <th>wl_275</th>\n      <th>wl_276</th>\n      <th>wl_277</th>\n      <th>wl_278</th>\n      <th>wl_279</th>\n      <th>wl_280</th>\n      <th>wl_281</th>\n      <th>wl_282</th>\n      <th>wl_283</th>\n    </tr>\n  </thead>\n  <tbody>\n    <tr>\n      <th>0</th>\n      <td>785834</td>\n      <td>0.001086</td>\n      <td>0.001137</td>\n      <td>0.001131</td>\n      <td>0.001124</td>\n      <td>0.001138</td>\n      <td>0.001131</td>\n      <td>0.001123</td>\n      <td>0.001127</td>\n      <td>0.001120</td>\n      <td>...</td>\n      <td>0.001075</td>\n      <td>0.001076</td>\n      <td>0.001076</td>\n      <td>0.001076</td>\n      <td>0.001074</td>\n      <td>0.001073</td>\n      <td>0.001072</td>\n      <td>0.001073</td>\n      <td>0.001073</td>\n      <td>0.001072</td>\n    </tr>\n    <tr>\n      <th>1</th>\n      <td>14485303</td>\n      <td>0.001835</td>\n      <td>0.001835</td>\n      <td>0.001834</td>\n      <td>0.001833</td>\n      <td>0.001833</td>\n      <td>0.001833</td>\n      <td>0.001833</td>\n      <td>0.001834</td>\n      <td>0.001834</td>\n      <td>...</td>\n      <td>0.001893</td>\n      <td>0.001892</td>\n      <td>0.001892</td>\n      <td>0.001891</td>\n      <td>0.001891</td>\n      <td>0.001891</td>\n      <td>0.001890</td>\n      <td>0.001890</td>\n      <td>0.001889</td>\n      <td>0.001888</td>\n    </tr>\n    <tr>\n      <th>2</th>\n      <td>17002355</td>\n      <td>0.002792</td>\n      <td>0.002814</td>\n      <td>0.002808</td>\n      <td>0.002804</td>\n      <td>0.002809</td>\n      <td>0.002805</td>\n      <td>0.002802</td>\n      <td>0.002805</td>\n      <td>0.002801</td>\n      <td>...</td>\n      <td>0.002784</td>\n      <td>0.002783</td>\n      <td>0.002783</td>\n      <td>0.002783</td>\n      <td>0.002783</td>\n      <td>0.002784</td>\n      <td>0.002784</td>\n      <td>0.002785</td>\n      <td>0.002785</td>\n      <td>0.002784</td>\n    </tr>\n    <tr>\n      <th>3</th>\n      <td>24135240</td>\n      <td>0.001294</td>\n      <td>0.001308</td>\n      <td>0.001308</td>\n      <td>0.001306</td>\n      <td>0.001306</td>\n      <td>0.001303</td>\n      <td>0.001306</td>\n      <td>0.001314</td>\n      <td>0.001314</td>\n      <td>...</td>\n      <td>0.001405</td>\n      <td>0.001404</td>\n      <td>0.001403</td>\n      <td>0.001402</td>\n      <td>0.001401</td>\n      <td>0.001400</td>\n      <td>0.001399</td>\n      <td>0.001397</td>\n      <td>0.001395</td>\n      <td>0.001393</td>\n    </tr>\n    <tr>\n      <th>4</th>\n      <td>25070640</td>\n      <td>0.001987</td>\n      <td>0.001987</td>\n      <td>0.001987</td>\n      <td>0.001987</td>\n      <td>0.001987</td>\n      <td>0.001987</td>\n      <td>0.001987</td>\n      <td>0.001987</td>\n      <td>0.001987</td>\n      <td>...</td>\n      <td>0.001988</td>\n      <td>0.001988</td>\n      <td>0.001988</td>\n      <td>0.001988</td>\n      <td>0.001988</td>\n      <td>0.001988</td>\n      <td>0.001988</td>\n      <td>0.001988</td>\n      <td>0.001988</td>\n      <td>0.001988</td>\n    </tr>\n    <tr>\n      <th>...</th>\n      <td>...</td>\n      <td>...</td>\n      <td>...</td>\n      <td>...</td>\n      <td>...</td>\n      <td>...</td>\n      <td>...</td>\n      <td>...</td>\n      <td>...</td>\n      <td>...</td>\n      <td>...</td>\n      <td>...</td>\n      <td>...</td>\n      <td>...</td>\n      <td>...</td>\n      <td>...</td>\n      <td>...</td>\n      <td>...</td>\n      <td>...</td>\n      <td>...</td>\n      <td>...</td>\n    </tr>\n    <tr>\n      <th>668</th>\n      <td>4249337798</td>\n      <td>0.000790</td>\n      <td>0.000828</td>\n      <td>0.000825</td>\n      <td>0.000822</td>\n      <td>0.000830</td>\n      <td>0.000826</td>\n      <td>0.000822</td>\n      <td>0.000823</td>\n      <td>0.000820</td>\n      <td>...</td>\n      <td>0.000798</td>\n      <td>0.000799</td>\n      <td>0.000799</td>\n      <td>0.000799</td>\n      <td>0.000798</td>\n      <td>0.000796</td>\n      <td>0.000796</td>\n      <td>0.000796</td>\n      <td>0.000796</td>\n      <td>0.000796</td>\n    </tr>\n    <tr>\n      <th>669</th>\n      <td>4257395405</td>\n      <td>0.004063</td>\n      <td>0.004094</td>\n      <td>0.004090</td>\n      <td>0.004094</td>\n      <td>0.004083</td>\n      <td>0.004069</td>\n      <td>0.004076</td>\n      <td>0.004097</td>\n      <td>0.004100</td>\n      <td>...</td>\n      <td>0.004042</td>\n      <td>0.004042</td>\n      <td>0.004041</td>\n      <td>0.004041</td>\n      <td>0.004041</td>\n      <td>0.004041</td>\n      <td>0.004041</td>\n      <td>0.004040</td>\n      <td>0.004040</td>\n      <td>0.004039</td>\n    </tr>\n    <tr>\n      <th>670</th>\n      <td>4266129805</td>\n      <td>0.006566</td>\n      <td>0.006569</td>\n      <td>0.006568</td>\n      <td>0.006568</td>\n      <td>0.006567</td>\n      <td>0.006567</td>\n      <td>0.006568</td>\n      <td>0.006570</td>\n      <td>0.006569</td>\n      <td>...</td>\n      <td>0.006566</td>\n      <td>0.006566</td>\n      <td>0.006566</td>\n      <td>0.006566</td>\n      <td>0.006566</td>\n      <td>0.006566</td>\n      <td>0.006566</td>\n      <td>0.006566</td>\n      <td>0.006566</td>\n      <td>0.006566</td>\n    </tr>\n    <tr>\n      <th>671</th>\n      <td>4273166473</td>\n      <td>0.005647</td>\n      <td>0.005700</td>\n      <td>0.005687</td>\n      <td>0.005676</td>\n      <td>0.005687</td>\n      <td>0.005676</td>\n      <td>0.005667</td>\n      <td>0.005673</td>\n      <td>0.005663</td>\n      <td>...</td>\n      <td>0.005603</td>\n      <td>0.005603</td>\n      <td>0.005603</td>\n      <td>0.005602</td>\n      <td>0.005602</td>\n      <td>0.005604</td>\n      <td>0.005606</td>\n      <td>0.005607</td>\n      <td>0.005607</td>\n      <td>0.005605</td>\n    </tr>\n    <tr>\n      <th>672</th>\n      <td>4286133832</td>\n      <td>0.001506</td>\n      <td>0.001543</td>\n      <td>0.001541</td>\n      <td>0.001539</td>\n      <td>0.001544</td>\n      <td>0.001539</td>\n      <td>0.001537</td>\n      <td>0.001543</td>\n      <td>0.001540</td>\n      <td>...</td>\n      <td>0.001505</td>\n      <td>0.001505</td>\n      <td>0.001505</td>\n      <td>0.001505</td>\n      <td>0.001504</td>\n      <td>0.001503</td>\n      <td>0.001503</td>\n      <td>0.001503</td>\n      <td>0.001503</td>\n      <td>0.001502</td>\n    </tr>\n  </tbody>\n</table>\n<p>673 rows × 284 columns</p>\n</div>"
          },
          "metadata": {}
        }
      ]
    },
    {
      "cell_type": "code",
      "source": [
        "sel_planet = '1011759019'\n",
        "labels_df[labels_df[PLANET_ID]== sel_planet]"
      ],
      "metadata": {
        "execution": {
          "iopub.status.busy": "2024-09-08T18:31:14.707876Z",
          "iopub.execute_input": "2024-09-08T18:31:14.708274Z",
          "iopub.status.idle": "2024-09-08T18:31:14.724239Z",
          "shell.execute_reply.started": "2024-09-08T18:31:14.708238Z",
          "shell.execute_reply": "2024-09-08T18:31:14.723037Z"
        },
        "trusted": true,
        "id": "yFTdvEKO6w0z",
        "outputId": "c85be73a-a83c-4226-a54a-c2b381edadcc"
      },
      "execution_count": null,
      "outputs": [
        {
          "execution_count": 23,
          "output_type": "execute_result",
          "data": {
            "text/plain": "Empty DataFrame\nColumns: [planet_id, wl_1, wl_2, wl_3, wl_4, wl_5, wl_6, wl_7, wl_8, wl_9, wl_10, wl_11, wl_12, wl_13, wl_14, wl_15, wl_16, wl_17, wl_18, wl_19, wl_20, wl_21, wl_22, wl_23, wl_24, wl_25, wl_26, wl_27, wl_28, wl_29, wl_30, wl_31, wl_32, wl_33, wl_34, wl_35, wl_36, wl_37, wl_38, wl_39, wl_40, wl_41, wl_42, wl_43, wl_44, wl_45, wl_46, wl_47, wl_48, wl_49, wl_50, wl_51, wl_52, wl_53, wl_54, wl_55, wl_56, wl_57, wl_58, wl_59, wl_60, wl_61, wl_62, wl_63, wl_64, wl_65, wl_66, wl_67, wl_68, wl_69, wl_70, wl_71, wl_72, wl_73, wl_74, wl_75, wl_76, wl_77, wl_78, wl_79, wl_80, wl_81, wl_82, wl_83, wl_84, wl_85, wl_86, wl_87, wl_88, wl_89, wl_90, wl_91, wl_92, wl_93, wl_94, wl_95, wl_96, wl_97, wl_98, wl_99, ...]\nIndex: []\n\n[0 rows x 284 columns]",
            "text/html": "<div>\n<style scoped>\n    .dataframe tbody tr th:only-of-type {\n        vertical-align: middle;\n    }\n\n    .dataframe tbody tr th {\n        vertical-align: top;\n    }\n\n    .dataframe thead th {\n        text-align: right;\n    }\n</style>\n<table border=\"1\" class=\"dataframe\">\n  <thead>\n    <tr style=\"text-align: right;\">\n      <th></th>\n      <th>planet_id</th>\n      <th>wl_1</th>\n      <th>wl_2</th>\n      <th>wl_3</th>\n      <th>wl_4</th>\n      <th>wl_5</th>\n      <th>wl_6</th>\n      <th>wl_7</th>\n      <th>wl_8</th>\n      <th>wl_9</th>\n      <th>...</th>\n      <th>wl_274</th>\n      <th>wl_275</th>\n      <th>wl_276</th>\n      <th>wl_277</th>\n      <th>wl_278</th>\n      <th>wl_279</th>\n      <th>wl_280</th>\n      <th>wl_281</th>\n      <th>wl_282</th>\n      <th>wl_283</th>\n    </tr>\n  </thead>\n  <tbody>\n  </tbody>\n</table>\n<p>0 rows × 284 columns</p>\n</div>"
          },
          "metadata": {}
        }
      ]
    },
    {
      "cell_type": "code",
      "source": [
        "[train/test]/[planet_id]/[AIRS-CH0/FGS1]_calibration/flat.parquet:"
      ],
      "metadata": {
        "execution": {
          "iopub.status.busy": "2024-09-08T18:30:11.125537Z",
          "iopub.execute_input": "2024-09-08T18:30:11.125998Z",
          "iopub.status.idle": "2024-09-08T18:30:11.143534Z",
          "shell.execute_reply.started": "2024-09-08T18:30:11.125956Z",
          "shell.execute_reply": "2024-09-08T18:30:11.142044Z"
        },
        "trusted": true,
        "id": "skAv054Y6w0z",
        "outputId": "def36a16-abb7-4332-a79c-ca36431792e7"
      },
      "execution_count": null,
      "outputs": [
        {
          "execution_count": 21,
          "output_type": "execute_result",
          "data": {
            "text/plain": "Empty DataFrame\nColumns: [planet_id, wl_1, wl_2, wl_3, wl_4, wl_5, wl_6, wl_7, wl_8, wl_9, wl_10, wl_11, wl_12, wl_13, wl_14, wl_15, wl_16, wl_17, wl_18, wl_19, wl_20, wl_21, wl_22, wl_23, wl_24, wl_25, wl_26, wl_27, wl_28, wl_29, wl_30, wl_31, wl_32, wl_33, wl_34, wl_35, wl_36, wl_37, wl_38, wl_39, wl_40, wl_41, wl_42, wl_43, wl_44, wl_45, wl_46, wl_47, wl_48, wl_49, wl_50, wl_51, wl_52, wl_53, wl_54, wl_55, wl_56, wl_57, wl_58, wl_59, wl_60, wl_61, wl_62, wl_63, wl_64, wl_65, wl_66, wl_67, wl_68, wl_69, wl_70, wl_71, wl_72, wl_73, wl_74, wl_75, wl_76, wl_77, wl_78, wl_79, wl_80, wl_81, wl_82, wl_83, wl_84, wl_85, wl_86, wl_87, wl_88, wl_89, wl_90, wl_91, wl_92, wl_93, wl_94, wl_95, wl_96, wl_97, wl_98, wl_99, ...]\nIndex: []\n\n[0 rows x 284 columns]",
            "text/html": "<div>\n<style scoped>\n    .dataframe tbody tr th:only-of-type {\n        vertical-align: middle;\n    }\n\n    .dataframe tbody tr th {\n        vertical-align: top;\n    }\n\n    .dataframe thead th {\n        text-align: right;\n    }\n</style>\n<table border=\"1\" class=\"dataframe\">\n  <thead>\n    <tr style=\"text-align: right;\">\n      <th></th>\n      <th>planet_id</th>\n      <th>wl_1</th>\n      <th>wl_2</th>\n      <th>wl_3</th>\n      <th>wl_4</th>\n      <th>wl_5</th>\n      <th>wl_6</th>\n      <th>wl_7</th>\n      <th>wl_8</th>\n      <th>wl_9</th>\n      <th>...</th>\n      <th>wl_274</th>\n      <th>wl_275</th>\n      <th>wl_276</th>\n      <th>wl_277</th>\n      <th>wl_278</th>\n      <th>wl_279</th>\n      <th>wl_280</th>\n      <th>wl_281</th>\n      <th>wl_282</th>\n      <th>wl_283</th>\n    </tr>\n  </thead>\n  <tbody>\n  </tbody>\n</table>\n<p>0 rows × 284 columns</p>\n</div>"
          },
          "metadata": {}
        }
      ]
    },
    {
      "cell_type": "code",
      "source": [
        "pd.read_parquet(f'train/{sel_planet}/AIRS-CH0_signal.parquet')"
      ],
      "metadata": {
        "execution": {
          "iopub.status.busy": "2024-09-08T18:33:55.941142Z",
          "iopub.execute_input": "2024-09-08T18:33:55.941573Z",
          "iopub.status.idle": "2024-09-08T18:33:56.038812Z",
          "shell.execute_reply.started": "2024-09-08T18:33:55.941531Z",
          "shell.execute_reply": "2024-09-08T18:33:56.037303Z"
        },
        "trusted": true,
        "id": "CjhgqPNK6w00",
        "outputId": "8801de8d-4ad2-42fd-dafc-68e92757820a"
      },
      "execution_count": null,
      "outputs": [
        {
          "traceback": [
            "\u001b[0;31m---------------------------------------------------------------------------\u001b[0m",
            "\u001b[0;31mFileNotFoundError\u001b[0m                         Traceback (most recent call last)",
            "Cell \u001b[0;32mIn[25], line 1\u001b[0m\n\u001b[0;32m----> 1\u001b[0m \u001b[43mpd\u001b[49m\u001b[38;5;241;43m.\u001b[39;49m\u001b[43mread_parquet\u001b[49m\u001b[43m(\u001b[49m\u001b[38;5;124;43mf\u001b[39;49m\u001b[38;5;124;43m'\u001b[39;49m\u001b[38;5;124;43mtrain/\u001b[39;49m\u001b[38;5;132;43;01m{\u001b[39;49;00m\u001b[43msel_planet\u001b[49m\u001b[38;5;132;43;01m}\u001b[39;49;00m\u001b[38;5;124;43m/AIRS-CH0_signal.parquet\u001b[39;49m\u001b[38;5;124;43m'\u001b[39;49m\u001b[43m)\u001b[49m\n",
            "File \u001b[0;32m/opt/conda/lib/python3.10/site-packages/pandas/io/parquet.py:667\u001b[0m, in \u001b[0;36mread_parquet\u001b[0;34m(path, engine, columns, storage_options, use_nullable_dtypes, dtype_backend, filesystem, filters, **kwargs)\u001b[0m\n\u001b[1;32m    664\u001b[0m     use_nullable_dtypes \u001b[38;5;241m=\u001b[39m \u001b[38;5;28;01mFalse\u001b[39;00m\n\u001b[1;32m    665\u001b[0m check_dtype_backend(dtype_backend)\n\u001b[0;32m--> 667\u001b[0m \u001b[38;5;28;01mreturn\u001b[39;00m \u001b[43mimpl\u001b[49m\u001b[38;5;241;43m.\u001b[39;49m\u001b[43mread\u001b[49m\u001b[43m(\u001b[49m\n\u001b[1;32m    668\u001b[0m \u001b[43m    \u001b[49m\u001b[43mpath\u001b[49m\u001b[43m,\u001b[49m\n\u001b[1;32m    669\u001b[0m \u001b[43m    \u001b[49m\u001b[43mcolumns\u001b[49m\u001b[38;5;241;43m=\u001b[39;49m\u001b[43mcolumns\u001b[49m\u001b[43m,\u001b[49m\n\u001b[1;32m    670\u001b[0m \u001b[43m    \u001b[49m\u001b[43mfilters\u001b[49m\u001b[38;5;241;43m=\u001b[39;49m\u001b[43mfilters\u001b[49m\u001b[43m,\u001b[49m\n\u001b[1;32m    671\u001b[0m \u001b[43m    \u001b[49m\u001b[43mstorage_options\u001b[49m\u001b[38;5;241;43m=\u001b[39;49m\u001b[43mstorage_options\u001b[49m\u001b[43m,\u001b[49m\n\u001b[1;32m    672\u001b[0m \u001b[43m    \u001b[49m\u001b[43muse_nullable_dtypes\u001b[49m\u001b[38;5;241;43m=\u001b[39;49m\u001b[43muse_nullable_dtypes\u001b[49m\u001b[43m,\u001b[49m\n\u001b[1;32m    673\u001b[0m \u001b[43m    \u001b[49m\u001b[43mdtype_backend\u001b[49m\u001b[38;5;241;43m=\u001b[39;49m\u001b[43mdtype_backend\u001b[49m\u001b[43m,\u001b[49m\n\u001b[1;32m    674\u001b[0m \u001b[43m    \u001b[49m\u001b[43mfilesystem\u001b[49m\u001b[38;5;241;43m=\u001b[39;49m\u001b[43mfilesystem\u001b[49m\u001b[43m,\u001b[49m\n\u001b[1;32m    675\u001b[0m \u001b[43m    \u001b[49m\u001b[38;5;241;43m*\u001b[39;49m\u001b[38;5;241;43m*\u001b[39;49m\u001b[43mkwargs\u001b[49m\u001b[43m,\u001b[49m\n\u001b[1;32m    676\u001b[0m \u001b[43m\u001b[49m\u001b[43m)\u001b[49m\n",
            "File \u001b[0;32m/opt/conda/lib/python3.10/site-packages/pandas/io/parquet.py:267\u001b[0m, in \u001b[0;36mPyArrowImpl.read\u001b[0;34m(self, path, columns, filters, use_nullable_dtypes, dtype_backend, storage_options, filesystem, **kwargs)\u001b[0m\n\u001b[1;32m    264\u001b[0m \u001b[38;5;28;01mif\u001b[39;00m manager \u001b[38;5;241m==\u001b[39m \u001b[38;5;124m\"\u001b[39m\u001b[38;5;124marray\u001b[39m\u001b[38;5;124m\"\u001b[39m:\n\u001b[1;32m    265\u001b[0m     to_pandas_kwargs[\u001b[38;5;124m\"\u001b[39m\u001b[38;5;124msplit_blocks\u001b[39m\u001b[38;5;124m\"\u001b[39m] \u001b[38;5;241m=\u001b[39m \u001b[38;5;28;01mTrue\u001b[39;00m  \u001b[38;5;66;03m# type: ignore[assignment]\u001b[39;00m\n\u001b[0;32m--> 267\u001b[0m path_or_handle, handles, filesystem \u001b[38;5;241m=\u001b[39m \u001b[43m_get_path_or_handle\u001b[49m\u001b[43m(\u001b[49m\n\u001b[1;32m    268\u001b[0m \u001b[43m    \u001b[49m\u001b[43mpath\u001b[49m\u001b[43m,\u001b[49m\n\u001b[1;32m    269\u001b[0m \u001b[43m    \u001b[49m\u001b[43mfilesystem\u001b[49m\u001b[43m,\u001b[49m\n\u001b[1;32m    270\u001b[0m \u001b[43m    \u001b[49m\u001b[43mstorage_options\u001b[49m\u001b[38;5;241;43m=\u001b[39;49m\u001b[43mstorage_options\u001b[49m\u001b[43m,\u001b[49m\n\u001b[1;32m    271\u001b[0m \u001b[43m    \u001b[49m\u001b[43mmode\u001b[49m\u001b[38;5;241;43m=\u001b[39;49m\u001b[38;5;124;43m\"\u001b[39;49m\u001b[38;5;124;43mrb\u001b[39;49m\u001b[38;5;124;43m\"\u001b[39;49m\u001b[43m,\u001b[49m\n\u001b[1;32m    272\u001b[0m \u001b[43m\u001b[49m\u001b[43m)\u001b[49m\n\u001b[1;32m    273\u001b[0m \u001b[38;5;28;01mtry\u001b[39;00m:\n\u001b[1;32m    274\u001b[0m     pa_table \u001b[38;5;241m=\u001b[39m \u001b[38;5;28mself\u001b[39m\u001b[38;5;241m.\u001b[39mapi\u001b[38;5;241m.\u001b[39mparquet\u001b[38;5;241m.\u001b[39mread_table(\n\u001b[1;32m    275\u001b[0m         path_or_handle,\n\u001b[1;32m    276\u001b[0m         columns\u001b[38;5;241m=\u001b[39mcolumns,\n\u001b[0;32m   (...)\u001b[0m\n\u001b[1;32m    279\u001b[0m         \u001b[38;5;241m*\u001b[39m\u001b[38;5;241m*\u001b[39mkwargs,\n\u001b[1;32m    280\u001b[0m     )\n",
            "File \u001b[0;32m/opt/conda/lib/python3.10/site-packages/pandas/io/parquet.py:140\u001b[0m, in \u001b[0;36m_get_path_or_handle\u001b[0;34m(path, fs, storage_options, mode, is_dir)\u001b[0m\n\u001b[1;32m    130\u001b[0m handles \u001b[38;5;241m=\u001b[39m \u001b[38;5;28;01mNone\u001b[39;00m\n\u001b[1;32m    131\u001b[0m \u001b[38;5;28;01mif\u001b[39;00m (\n\u001b[1;32m    132\u001b[0m     \u001b[38;5;129;01mnot\u001b[39;00m fs\n\u001b[1;32m    133\u001b[0m     \u001b[38;5;129;01mand\u001b[39;00m \u001b[38;5;129;01mnot\u001b[39;00m is_dir\n\u001b[0;32m   (...)\u001b[0m\n\u001b[1;32m    138\u001b[0m     \u001b[38;5;66;03m# fsspec resources can also point to directories\u001b[39;00m\n\u001b[1;32m    139\u001b[0m     \u001b[38;5;66;03m# this branch is used for example when reading from non-fsspec URLs\u001b[39;00m\n\u001b[0;32m--> 140\u001b[0m     handles \u001b[38;5;241m=\u001b[39m \u001b[43mget_handle\u001b[49m\u001b[43m(\u001b[49m\n\u001b[1;32m    141\u001b[0m \u001b[43m        \u001b[49m\u001b[43mpath_or_handle\u001b[49m\u001b[43m,\u001b[49m\u001b[43m \u001b[49m\u001b[43mmode\u001b[49m\u001b[43m,\u001b[49m\u001b[43m \u001b[49m\u001b[43mis_text\u001b[49m\u001b[38;5;241;43m=\u001b[39;49m\u001b[38;5;28;43;01mFalse\u001b[39;49;00m\u001b[43m,\u001b[49m\u001b[43m \u001b[49m\u001b[43mstorage_options\u001b[49m\u001b[38;5;241;43m=\u001b[39;49m\u001b[43mstorage_options\u001b[49m\n\u001b[1;32m    142\u001b[0m \u001b[43m    \u001b[49m\u001b[43m)\u001b[49m\n\u001b[1;32m    143\u001b[0m     fs \u001b[38;5;241m=\u001b[39m \u001b[38;5;28;01mNone\u001b[39;00m\n\u001b[1;32m    144\u001b[0m     path_or_handle \u001b[38;5;241m=\u001b[39m handles\u001b[38;5;241m.\u001b[39mhandle\n",
            "File \u001b[0;32m/opt/conda/lib/python3.10/site-packages/pandas/io/common.py:882\u001b[0m, in \u001b[0;36mget_handle\u001b[0;34m(path_or_buf, mode, encoding, compression, memory_map, is_text, errors, storage_options)\u001b[0m\n\u001b[1;32m    873\u001b[0m         handle \u001b[38;5;241m=\u001b[39m \u001b[38;5;28mopen\u001b[39m(\n\u001b[1;32m    874\u001b[0m             handle,\n\u001b[1;32m    875\u001b[0m             ioargs\u001b[38;5;241m.\u001b[39mmode,\n\u001b[0;32m   (...)\u001b[0m\n\u001b[1;32m    878\u001b[0m             newline\u001b[38;5;241m=\u001b[39m\u001b[38;5;124m\"\u001b[39m\u001b[38;5;124m\"\u001b[39m,\n\u001b[1;32m    879\u001b[0m         )\n\u001b[1;32m    880\u001b[0m     \u001b[38;5;28;01melse\u001b[39;00m:\n\u001b[1;32m    881\u001b[0m         \u001b[38;5;66;03m# Binary mode\u001b[39;00m\n\u001b[0;32m--> 882\u001b[0m         handle \u001b[38;5;241m=\u001b[39m \u001b[38;5;28;43mopen\u001b[39;49m\u001b[43m(\u001b[49m\u001b[43mhandle\u001b[49m\u001b[43m,\u001b[49m\u001b[43m \u001b[49m\u001b[43mioargs\u001b[49m\u001b[38;5;241;43m.\u001b[39;49m\u001b[43mmode\u001b[49m\u001b[43m)\u001b[49m\n\u001b[1;32m    883\u001b[0m     handles\u001b[38;5;241m.\u001b[39mappend(handle)\n\u001b[1;32m    885\u001b[0m \u001b[38;5;66;03m# Convert BytesIO or file objects passed with an encoding\u001b[39;00m\n",
            "\u001b[0;31mFileNotFoundError\u001b[0m: [Errno 2] No such file or directory: 'train/1011759019/AIRS-CH0_signal.parquet'"
          ],
          "ename": "FileNotFoundError",
          "evalue": "[Errno 2] No such file or directory: 'train/1011759019/AIRS-CH0_signal.parquet'",
          "output_type": "error"
        }
      ]
    }
  ]
}